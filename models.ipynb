{
 "cells": [
  {
   "cell_type": "code",
   "execution_count": 19,
   "metadata": {},
   "outputs": [
    {
     "data": {
      "text/plain": [
       "<module 'mystuff' from '/home/luca/projects/nttn/mystuff.py'>"
      ]
     },
     "execution_count": 19,
     "metadata": {},
     "output_type": "execute_result"
    }
   ],
   "source": [
    "import torch.nn.functional as F\n",
    "\n",
    "import importlib\n",
    "import mystuff\n",
    "importlib.reload(mystuff)"
   ]
  },
  {
   "cell_type": "code",
   "execution_count": 13,
   "metadata": {},
   "outputs": [
    {
     "name": "stdout",
     "output_type": "stream",
     "text": [
      "did not find cached weights. starting training loop...\n",
      "Epoch 1\n"
     ]
    },
    {
     "name": "stderr",
     "output_type": "stream",
     "text": [
      "  Loss   0.020023   Progress: 100%|██████████| 938/938 [01:00<00:00, 15.62it/s]\n"
     ]
    },
    {
     "name": "stdout",
     "output_type": "stream",
     "text": [
      "  Test results:   loss(0.1779)   accuracy( 94.76)\n",
      "  Effective rank of weight matrix: 743.27765\n",
      "Epoch 2\n"
     ]
    },
    {
     "name": "stderr",
     "output_type": "stream",
     "text": [
      "  Loss   0.011465   Progress: 100%|██████████| 938/938 [01:00<00:00, 15.59it/s]\n"
     ]
    },
    {
     "name": "stdout",
     "output_type": "stream",
     "text": [
      "  Test results:   loss(0.1130)   accuracy( 96.35)\n",
      "  Effective rank of weight matrix: 734.9545\n",
      "Epoch 3\n"
     ]
    },
    {
     "name": "stderr",
     "output_type": "stream",
     "text": [
      "  Loss   0.020639   Progress: 100%|██████████| 938/938 [01:00<00:00, 15.59it/s]\n"
     ]
    },
    {
     "name": "stdout",
     "output_type": "stream",
     "text": [
      "  Test results:   loss(0.0825)   accuracy( 97.52)\n",
      "  Effective rank of weight matrix: 731.76746\n",
      "Epoch 4\n"
     ]
    },
    {
     "name": "stderr",
     "output_type": "stream",
     "text": [
      "  Loss   0.002260   Progress: 100%|██████████| 938/938 [00:58<00:00, 15.91it/s]\n"
     ]
    },
    {
     "name": "stdout",
     "output_type": "stream",
     "text": [
      "  Test results:   loss(0.0692)   accuracy( 97.91)\n",
      "  Effective rank of weight matrix: 729.8251\n",
      "Epoch 5\n"
     ]
    },
    {
     "name": "stderr",
     "output_type": "stream",
     "text": [
      "  Loss   0.002426   Progress: 100%|██████████| 938/938 [01:02<00:00, 14.93it/s]\n"
     ]
    },
    {
     "name": "stdout",
     "output_type": "stream",
     "text": [
      "  Test results:   loss(0.0612)   accuracy( 98.09)\n",
      "  Effective rank of weight matrix: 728.74115\n",
      "model weights saved to file \"models/model0.pt\"\n"
     ]
    }
   ],
   "source": [
    "# model0: baseline\n",
    "\n",
    "model = mystuff.MnistFCNet(name='model0', seed=0)\n",
    "model.init_model(activation=F.relu, dropout=0.5)\n",
    "model.init_optimizer(lr=1e-3, lr_gamma=0.7)\n",
    "model.init_data_loader(batch_size=64)\n",
    "if model.already_saved():\n",
    "    print(f'using cached model weights loaded from {model.path}...')\n",
    "    model.load_from_file()\n",
    "    model.score_pretty()\n",
    "else:\n",
    "    print('did not find cached weights. starting training loop...')\n",
    "    model.train_loop(5)\n",
    "    model.save_to_file()\n",
    "    print(f'model weights saved to file \"{model.path}\"')"
   ]
  },
  {
   "cell_type": "code",
   "execution_count": 14,
   "metadata": {},
   "outputs": [
    {
     "name": "stdout",
     "output_type": "stream",
     "text": [
      "did not find cached weights. starting training loop...\n",
      "Epoch 1\n"
     ]
    },
    {
     "name": "stderr",
     "output_type": "stream",
     "text": [
      "  Loss   0.090211   Progress: 100%|██████████| 938/938 [00:53<00:00, 17.62it/s]\n"
     ]
    },
    {
     "name": "stdout",
     "output_type": "stream",
     "text": [
      "  Test results:   loss(0.1619)   accuracy( 95.04)\n",
      "  Effective rank of weight matrix: 758.16815\n",
      "Epoch 2\n"
     ]
    },
    {
     "name": "stderr",
     "output_type": "stream",
     "text": [
      "  Loss   0.012543   Progress: 100%|██████████| 938/938 [00:47<00:00, 19.75it/s]\n"
     ]
    },
    {
     "name": "stdout",
     "output_type": "stream",
     "text": [
      "  Test results:   loss(0.1295)   accuracy( 96.25)\n",
      "  Effective rank of weight matrix: 751.31335\n",
      "Epoch 3\n"
     ]
    },
    {
     "name": "stderr",
     "output_type": "stream",
     "text": [
      "  Loss   0.026742   Progress: 100%|██████████| 938/938 [00:47<00:00, 19.62it/s]\n"
     ]
    },
    {
     "name": "stdout",
     "output_type": "stream",
     "text": [
      "  Test results:   loss(0.1176)   accuracy( 96.52)\n",
      "  Effective rank of weight matrix: 747.56647\n",
      "Epoch 4\n"
     ]
    },
    {
     "name": "stderr",
     "output_type": "stream",
     "text": [
      "  Loss   0.037203   Progress: 100%|██████████| 938/938 [00:46<00:00, 19.98it/s]\n"
     ]
    },
    {
     "name": "stdout",
     "output_type": "stream",
     "text": [
      "  Test results:   loss(0.0961)   accuracy( 97.33)\n",
      "  Effective rank of weight matrix: 745.34753\n",
      "Epoch 5\n"
     ]
    },
    {
     "name": "stderr",
     "output_type": "stream",
     "text": [
      "  Loss   0.016335   Progress: 100%|██████████| 938/938 [00:46<00:00, 19.96it/s]\n"
     ]
    },
    {
     "name": "stdout",
     "output_type": "stream",
     "text": [
      "  Test results:   loss(0.0872)   accuracy( 97.48)\n",
      "  Effective rank of weight matrix: 743.68854\n",
      "model weights saved to file \"models/model1.pt\"\n"
     ]
    }
   ],
   "source": [
    "# model1: increased dropout hoping for lower rank\n",
    "\n",
    "model = mystuff.MnistFCNet(name='model1', seed=0)\n",
    "model.init_model(activation=F.relu, dropout=0.7)\n",
    "model.init_optimizer(lr=1e-3, lr_gamma=0.7)\n",
    "model.init_data_loader(batch_size=64)\n",
    "if model.already_saved():\n",
    "    print(f'using cached model weights loaded from {model.path}...')\n",
    "    model.load_from_file()\n",
    "    model.score_pretty()\n",
    "else:\n",
    "    print('did not find cached weights. starting training loop...')\n",
    "    model.train_loop(5)\n",
    "    model.save_to_file()\n",
    "    print(f'model weights saved to file \"{model.path}\"')"
   ]
  },
  {
   "cell_type": "code",
   "execution_count": 15,
   "metadata": {},
   "outputs": [
    {
     "name": "stdout",
     "output_type": "stream",
     "text": [
      "did not find cached weights. starting training loop...\n",
      "Epoch 1\n"
     ]
    },
    {
     "name": "stderr",
     "output_type": "stream",
     "text": [
      "  Loss   0.014299   Progress: 100%|██████████| 938/938 [00:52<00:00, 18.03it/s]\n"
     ]
    },
    {
     "name": "stdout",
     "output_type": "stream",
     "text": [
      "  Test results:   loss(0.1326)   accuracy( 95.84)\n",
      "  Effective rank of weight matrix: 728.8075\n",
      "Epoch 2\n"
     ]
    },
    {
     "name": "stderr",
     "output_type": "stream",
     "text": [
      "  Loss   0.008228   Progress: 100%|██████████| 938/938 [00:58<00:00, 16.11it/s]\n"
     ]
    },
    {
     "name": "stdout",
     "output_type": "stream",
     "text": [
      "  Test results:   loss(0.1036)   accuracy( 96.80)\n",
      "  Effective rank of weight matrix: 716.62286\n",
      "Epoch 3\n"
     ]
    },
    {
     "name": "stderr",
     "output_type": "stream",
     "text": [
      "  Loss   0.005016   Progress: 100%|██████████| 938/938 [00:56<00:00, 16.60it/s]\n"
     ]
    },
    {
     "name": "stdout",
     "output_type": "stream",
     "text": [
      "  Test results:   loss(0.1099)   accuracy( 96.70)\n",
      "  Effective rank of weight matrix: 711.40485\n",
      "Epoch 4\n"
     ]
    },
    {
     "name": "stderr",
     "output_type": "stream",
     "text": [
      "  Loss   0.001790   Progress: 100%|██████████| 938/938 [00:55<00:00, 16.77it/s]\n"
     ]
    },
    {
     "name": "stdout",
     "output_type": "stream",
     "text": [
      "  Test results:   loss(0.0691)   accuracy( 97.93)\n",
      "  Effective rank of weight matrix: 708.611\n",
      "Epoch 5\n"
     ]
    },
    {
     "name": "stderr",
     "output_type": "stream",
     "text": [
      "  Loss   0.000353   Progress: 100%|██████████| 938/938 [00:53<00:00, 17.58it/s]\n"
     ]
    },
    {
     "name": "stdout",
     "output_type": "stream",
     "text": [
      "  Test results:   loss(0.0605)   accuracy( 98.18)\n",
      "  Effective rank of weight matrix: 707.0241\n",
      "model weights saved to file \"models/model2.pt\"\n"
     ]
    }
   ],
   "source": [
    "# model2: decreased dropout hoping for lower rank \n",
    "#         since increasing had the opposite effect\n",
    "\n",
    "model = mystuff.MnistFCNet(name='model2', seed=0)\n",
    "model.init_model(activation=F.relu, dropout=0.3)\n",
    "model.init_optimizer(lr=1e-3, lr_gamma=0.7)\n",
    "model.init_data_loader(batch_size=64)\n",
    "if model.already_saved():\n",
    "    print(f'using cached model weights loaded from {model.path}...')\n",
    "    model.load_from_file()\n",
    "    model.score_pretty()\n",
    "else:\n",
    "    print('did not find cached weights. starting training loop...')\n",
    "    model.train_loop(5)\n",
    "    model.save_to_file()\n",
    "    print(f'model weights saved to file \"{model.path}\"')"
   ]
  },
  {
   "cell_type": "code",
   "execution_count": 16,
   "metadata": {},
   "outputs": [
    {
     "name": "stdout",
     "output_type": "stream",
     "text": [
      "did not find cached weights. starting training loop...\n",
      "Epoch 1\n"
     ]
    },
    {
     "name": "stderr",
     "output_type": "stream",
     "text": [
      "  Loss   0.011836   Progress: 100%|██████████| 938/938 [00:52<00:00, 17.86it/s]\n"
     ]
    },
    {
     "name": "stdout",
     "output_type": "stream",
     "text": [
      "  Test results:   loss(0.1534)   accuracy( 95.23)\n",
      "  Effective rank of weight matrix: 722.4797\n",
      "Epoch 2\n"
     ]
    },
    {
     "name": "stderr",
     "output_type": "stream",
     "text": [
      "  Loss   0.000404   Progress: 100%|██████████| 938/938 [00:51<00:00, 18.20it/s]\n"
     ]
    },
    {
     "name": "stdout",
     "output_type": "stream",
     "text": [
      "  Test results:   loss(0.1128)   accuracy( 96.73)\n",
      "  Effective rank of weight matrix: 707.8594\n",
      "Epoch 3\n"
     ]
    },
    {
     "name": "stderr",
     "output_type": "stream",
     "text": [
      "  Loss   0.006837   Progress: 100%|██████████| 938/938 [00:59<00:00, 15.90it/s]\n"
     ]
    },
    {
     "name": "stdout",
     "output_type": "stream",
     "text": [
      "  Test results:   loss(0.0751)   accuracy( 97.85)\n",
      "  Effective rank of weight matrix: 701.7984\n",
      "Epoch 4\n"
     ]
    },
    {
     "name": "stderr",
     "output_type": "stream",
     "text": [
      "  Loss   0.001260   Progress: 100%|██████████| 938/938 [01:00<00:00, 15.62it/s]\n"
     ]
    },
    {
     "name": "stdout",
     "output_type": "stream",
     "text": [
      "  Test results:   loss(0.0711)   accuracy( 97.97)\n",
      "  Effective rank of weight matrix: 698.4392\n",
      "Epoch 5\n"
     ]
    },
    {
     "name": "stderr",
     "output_type": "stream",
     "text": [
      "  Loss   0.001034   Progress: 100%|██████████| 938/938 [00:58<00:00, 16.05it/s]\n"
     ]
    },
    {
     "name": "stdout",
     "output_type": "stream",
     "text": [
      "  Test results:   loss(0.0598)   accuracy( 98.32)\n",
      "  Effective rank of weight matrix: 696.5853\n",
      "model weights saved to file \"models/model3.pt\"\n"
     ]
    }
   ],
   "source": [
    "# model3: even less dropout since it worked well\n",
    "\n",
    "model = mystuff.MnistFCNet(name='model3', seed=0)\n",
    "model.init_model(activation=F.relu, dropout=0.2)\n",
    "model.init_optimizer(lr=1e-3, lr_gamma=0.7)\n",
    "model.init_data_loader(batch_size=64)\n",
    "if model.already_saved():\n",
    "    print(f'using cached model weights loaded from {model.path}...')\n",
    "    model.load_from_file()\n",
    "    model.score_pretty()\n",
    "else:\n",
    "    print('did not find cached weights. starting training loop...')\n",
    "    model.train_loop(5)\n",
    "    model.save_to_file()\n",
    "    print(f'model weights saved to file \"{model.path}\"')"
   ]
  },
  {
   "cell_type": "code",
   "execution_count": 21,
   "metadata": {},
   "outputs": [
    {
     "name": "stdout",
     "output_type": "stream",
     "text": [
      "did not find cached weights. starting training loop...\n",
      "Epoch 1\n"
     ]
    },
    {
     "name": "stderr",
     "output_type": "stream",
     "text": [
      "  Loss   7.193211   Progress: 100%|██████████| 1875/1875 [01:20<00:00, 23.19it/s]\n"
     ]
    },
    {
     "name": "stdout",
     "output_type": "stream",
     "text": [
      "  Test results:   loss(1.7727)   accuracy( 35.88)\n",
      "  Effective rank of weight matrix: 506.03864\n",
      "Epoch 2\n"
     ]
    },
    {
     "name": "stderr",
     "output_type": "stream",
     "text": [
      "  Loss   1.666161   Progress: 100%|██████████| 1875/1875 [01:17<00:00, 24.31it/s]\n"
     ]
    },
    {
     "name": "stdout",
     "output_type": "stream",
     "text": [
      "  Test results:   loss(1.0596)   accuracy( 65.78)\n",
      "  Effective rank of weight matrix: 507.85355\n",
      "Epoch 3\n"
     ]
    },
    {
     "name": "stderr",
     "output_type": "stream",
     "text": [
      "  Loss   0.656332   Progress: 100%|██████████| 1875/1875 [01:16<00:00, 24.53it/s]\n"
     ]
    },
    {
     "name": "stdout",
     "output_type": "stream",
     "text": [
      "  Test results:   loss(0.6289)   accuracy( 81.64)\n",
      "  Effective rank of weight matrix: 506.00388\n",
      "Epoch 4\n"
     ]
    },
    {
     "name": "stderr",
     "output_type": "stream",
     "text": [
      "  Loss   0.243690   Progress: 100%|██████████| 1875/1875 [01:17<00:00, 24.08it/s]\n"
     ]
    },
    {
     "name": "stdout",
     "output_type": "stream",
     "text": [
      "  Test results:   loss(0.4183)   accuracy( 88.31)\n",
      "  Effective rank of weight matrix: 484.55194\n",
      "Epoch 5\n"
     ]
    },
    {
     "name": "stderr",
     "output_type": "stream",
     "text": [
      "  Loss   0.016511   Progress: 100%|██████████| 1875/1875 [01:52<00:00, 16.71it/s]\n"
     ]
    },
    {
     "name": "stdout",
     "output_type": "stream",
     "text": [
      "  Test results:   loss(0.2565)   accuracy( 93.20)\n",
      "  Effective rank of weight matrix: 451.39587\n",
      "model weights saved to file \"models/model4.pt\"\n"
     ]
    }
   ],
   "source": [
    "# model4: following Poggio: weight decay, smaller batches, higher learning rate\n",
    "#         starting from baseline\n",
    "\n",
    "model = mystuff.MnistFCNet(name='model4', seed=0)\n",
    "model.init_model(activation=F.relu, dropout=0.5)\n",
    "model.init_optimizer(lr=1e-2, lr_gamma=0.7, l2_penalty=1e-3)\n",
    "model.init_data_loader(batch_size=32)\n",
    "if model.already_saved():\n",
    "    print(f'using cached model weights loaded from {model.path}...')\n",
    "    model.load_from_file()\n",
    "    model.score_pretty()\n",
    "else:\n",
    "    print('did not find cached weights. starting training loop...')\n",
    "    model.train_loop(5)\n",
    "    model.save_to_file()\n",
    "    print(f'model weights saved to file \"{model.path}\"')"
   ]
  },
  {
   "cell_type": "code",
   "execution_count": 22,
   "metadata": {},
   "outputs": [
    {
     "name": "stdout",
     "output_type": "stream",
     "text": [
      "did not find cached weights. starting training loop...\n",
      "Epoch 1\n"
     ]
    },
    {
     "name": "stderr",
     "output_type": "stream",
     "text": [
      "  Loss   0.330274   Progress: 100%|██████████| 1875/1875 [01:23<00:00, 22.38it/s]\n"
     ]
    },
    {
     "name": "stdout",
     "output_type": "stream",
     "text": [
      "  Test results:   loss(0.7149)   accuracy( 80.42)\n",
      "  Effective rank of weight matrix: 372.86926\n",
      "Epoch 2\n"
     ]
    },
    {
     "name": "stderr",
     "output_type": "stream",
     "text": [
      "  Loss   0.116747   Progress: 100%|██████████| 1875/1875 [01:20<00:00, 23.16it/s]\n"
     ]
    },
    {
     "name": "stdout",
     "output_type": "stream",
     "text": [
      "  Test results:   loss(0.5812)   accuracy( 85.15)\n",
      "  Effective rank of weight matrix: 338.78558\n",
      "Epoch 3\n"
     ]
    },
    {
     "name": "stderr",
     "output_type": "stream",
     "text": [
      "  Loss   0.321156   Progress: 100%|██████████| 1875/1875 [01:21<00:00, 22.93it/s]\n"
     ]
    },
    {
     "name": "stdout",
     "output_type": "stream",
     "text": [
      "  Test results:   loss(0.3668)   accuracy( 90.03)\n",
      "  Effective rank of weight matrix: 326.87347\n",
      "Epoch 4\n"
     ]
    },
    {
     "name": "stderr",
     "output_type": "stream",
     "text": [
      "  Loss   0.013851   Progress: 100%|██████████| 1875/1875 [01:21<00:00, 23.12it/s]\n"
     ]
    },
    {
     "name": "stdout",
     "output_type": "stream",
     "text": [
      "  Test results:   loss(0.3450)   accuracy( 90.85)\n",
      "  Effective rank of weight matrix: 318.16962\n",
      "Epoch 5\n"
     ]
    },
    {
     "name": "stderr",
     "output_type": "stream",
     "text": [
      "  Loss   0.009327   Progress: 100%|██████████| 1875/1875 [01:16<00:00, 24.42it/s]\n"
     ]
    },
    {
     "name": "stdout",
     "output_type": "stream",
     "text": [
      "  Test results:   loss(0.2381)   accuracy( 93.58)\n",
      "  Effective rank of weight matrix: 317.21982\n",
      "model weights saved to file \"models/model5.pt\"\n"
     ]
    }
   ],
   "source": [
    "# model5: try to decrease dropout to see if it generalizes still \n",
    "#         starting from model4\n",
    "\n",
    "model = mystuff.MnistFCNet(name='model5', seed=0)\n",
    "model.init_model(activation=F.relu, dropout=0.3)\n",
    "model.init_optimizer(lr=1e-2, lr_gamma=0.7, l2_penalty=1e-3)\n",
    "model.init_data_loader(batch_size=32)\n",
    "if model.already_saved():\n",
    "    print(f'using cached model weights loaded from {model.path}...')\n",
    "    model.load_from_file()\n",
    "    model.score_pretty()\n",
    "else:\n",
    "    print('did not find cached weights. starting training loop...')\n",
    "    model.train_loop(5)\n",
    "    model.save_to_file()\n",
    "    print(f'model weights saved to file \"{model.path}\"')"
   ]
  },
  {
   "cell_type": "code",
   "execution_count": 23,
   "metadata": {},
   "outputs": [
    {
     "name": "stdout",
     "output_type": "stream",
     "text": [
      "did not find cached weights. starting training loop...\n",
      "Epoch 1\n"
     ]
    },
    {
     "name": "stderr",
     "output_type": "stream",
     "text": [
      "  Loss   7.193211   Progress: 100%|██████████| 1875/1875 [01:13<00:00, 25.38it/s]\n"
     ]
    },
    {
     "name": "stdout",
     "output_type": "stream",
     "text": [
      "  Test results:   loss(1.7727)   accuracy( 35.88)\n",
      "  Effective rank of weight matrix: 506.03864\n",
      "Epoch 2\n"
     ]
    },
    {
     "name": "stderr",
     "output_type": "stream",
     "text": [
      "  Loss   1.666161   Progress: 100%|██████████| 1875/1875 [01:13<00:00, 25.41it/s]\n"
     ]
    },
    {
     "name": "stdout",
     "output_type": "stream",
     "text": [
      "  Test results:   loss(1.0596)   accuracy( 65.78)\n",
      "  Effective rank of weight matrix: 507.85355\n",
      "Epoch 3\n"
     ]
    },
    {
     "name": "stderr",
     "output_type": "stream",
     "text": [
      "  Loss   0.656332   Progress: 100%|██████████| 1875/1875 [01:13<00:00, 25.49it/s]\n"
     ]
    },
    {
     "name": "stdout",
     "output_type": "stream",
     "text": [
      "  Test results:   loss(0.6289)   accuracy( 81.64)\n",
      "  Effective rank of weight matrix: 506.00388\n",
      "Epoch 4\n"
     ]
    },
    {
     "name": "stderr",
     "output_type": "stream",
     "text": [
      "  Loss   0.243690   Progress: 100%|██████████| 1875/1875 [01:24<00:00, 22.21it/s]\n"
     ]
    },
    {
     "name": "stdout",
     "output_type": "stream",
     "text": [
      "  Test results:   loss(0.4183)   accuracy( 88.31)\n",
      "  Effective rank of weight matrix: 484.55194\n",
      "Epoch 5\n"
     ]
    },
    {
     "name": "stderr",
     "output_type": "stream",
     "text": [
      "  Loss   0.016511   Progress: 100%|██████████| 1875/1875 [01:23<00:00, 22.51it/s]\n"
     ]
    },
    {
     "name": "stdout",
     "output_type": "stream",
     "text": [
      "  Test results:   loss(0.2565)   accuracy( 93.20)\n",
      "  Effective rank of weight matrix: 451.39587\n",
      "Epoch 6\n"
     ]
    },
    {
     "name": "stderr",
     "output_type": "stream",
     "text": [
      "  Loss   0.148327   Progress: 100%|██████████| 1875/1875 [01:21<00:00, 23.10it/s]\n"
     ]
    },
    {
     "name": "stdout",
     "output_type": "stream",
     "text": [
      "  Test results:   loss(0.2031)   accuracy( 94.23)\n",
      "  Effective rank of weight matrix: 466.69333\n",
      "Epoch 7\n"
     ]
    },
    {
     "name": "stderr",
     "output_type": "stream",
     "text": [
      "  Loss   0.012780   Progress: 100%|██████████| 1875/1875 [01:21<00:00, 22.97it/s]\n"
     ]
    },
    {
     "name": "stdout",
     "output_type": "stream",
     "text": [
      "  Test results:   loss(0.1757)   accuracy( 95.14)\n",
      "  Effective rank of weight matrix: 498.96378\n",
      "Epoch 8\n"
     ]
    },
    {
     "name": "stderr",
     "output_type": "stream",
     "text": [
      "  Loss   0.056143   Progress: 100%|██████████| 1875/1875 [01:21<00:00, 23.02it/s]\n"
     ]
    },
    {
     "name": "stdout",
     "output_type": "stream",
     "text": [
      "  Test results:   loss(0.1590)   accuracy( 95.45)\n",
      "  Effective rank of weight matrix: 511.50998\n",
      "Epoch 9\n"
     ]
    },
    {
     "name": "stderr",
     "output_type": "stream",
     "text": [
      "  Loss   0.005618   Progress: 100%|██████████| 1875/1875 [01:19<00:00, 23.68it/s]\n"
     ]
    },
    {
     "name": "stdout",
     "output_type": "stream",
     "text": [
      "  Test results:   loss(0.1320)   accuracy( 95.96)\n",
      "  Effective rank of weight matrix: 498.09918\n",
      "Epoch 10\n"
     ]
    },
    {
     "name": "stderr",
     "output_type": "stream",
     "text": [
      "  Loss   0.008471   Progress: 100%|██████████| 1875/1875 [01:18<00:00, 23.91it/s]\n"
     ]
    },
    {
     "name": "stdout",
     "output_type": "stream",
     "text": [
      "  Test results:   loss(0.1076)   accuracy( 96.87)\n",
      "  Effective rank of weight matrix: 492.24524\n",
      "Epoch 11\n"
     ]
    },
    {
     "name": "stderr",
     "output_type": "stream",
     "text": [
      "  Loss   0.001773   Progress: 100%|██████████| 1875/1875 [01:17<00:00, 24.12it/s]\n"
     ]
    },
    {
     "name": "stdout",
     "output_type": "stream",
     "text": [
      "  Test results:   loss(0.1020)   accuracy( 96.88)\n",
      "  Effective rank of weight matrix: 483.3702\n",
      "Epoch 12\n"
     ]
    },
    {
     "name": "stderr",
     "output_type": "stream",
     "text": [
      "  Loss   0.001549   Progress: 100%|██████████| 1875/1875 [01:19<00:00, 23.72it/s]\n"
     ]
    },
    {
     "name": "stdout",
     "output_type": "stream",
     "text": [
      "  Test results:   loss(0.0818)   accuracy( 97.55)\n",
      "  Effective rank of weight matrix: 467.73883\n",
      "Epoch 13\n"
     ]
    },
    {
     "name": "stderr",
     "output_type": "stream",
     "text": [
      "  Loss   0.003959   Progress: 100%|██████████| 1875/1875 [01:21<00:00, 22.99it/s]\n"
     ]
    },
    {
     "name": "stdout",
     "output_type": "stream",
     "text": [
      "  Test results:   loss(0.0785)   accuracy( 97.73)\n",
      "  Effective rank of weight matrix: 459.0447\n",
      "Epoch 14\n"
     ]
    },
    {
     "name": "stderr",
     "output_type": "stream",
     "text": [
      "  Loss   0.001028   Progress: 100%|██████████| 1875/1875 [01:20<00:00, 23.17it/s]\n"
     ]
    },
    {
     "name": "stdout",
     "output_type": "stream",
     "text": [
      "  Test results:   loss(0.0708)   accuracy( 97.93)\n",
      "  Effective rank of weight matrix: 441.468\n",
      "Epoch 15\n"
     ]
    },
    {
     "name": "stderr",
     "output_type": "stream",
     "text": [
      "  Loss   0.002115   Progress: 100%|██████████| 1875/1875 [01:27<00:00, 21.51it/s]\n"
     ]
    },
    {
     "name": "stdout",
     "output_type": "stream",
     "text": [
      "  Test results:   loss(0.0691)   accuracy( 97.90)\n",
      "  Effective rank of weight matrix: 430.0678\n",
      "Epoch 16\n"
     ]
    },
    {
     "name": "stderr",
     "output_type": "stream",
     "text": [
      "  Loss   0.001802   Progress: 100%|██████████| 1875/1875 [01:20<00:00, 23.31it/s]\n"
     ]
    },
    {
     "name": "stdout",
     "output_type": "stream",
     "text": [
      "  Test results:   loss(0.0647)   accuracy( 98.04)\n",
      "  Effective rank of weight matrix: 424.4259\n",
      "Epoch 17\n"
     ]
    },
    {
     "name": "stderr",
     "output_type": "stream",
     "text": [
      "  Loss   0.003186   Progress: 100%|██████████| 1875/1875 [01:20<00:00, 23.19it/s]\n"
     ]
    },
    {
     "name": "stdout",
     "output_type": "stream",
     "text": [
      "  Test results:   loss(0.0637)   accuracy( 98.17)\n",
      "  Effective rank of weight matrix: 414.6407\n",
      "Epoch 18\n"
     ]
    },
    {
     "name": "stderr",
     "output_type": "stream",
     "text": [
      "  Loss   0.001566   Progress: 100%|██████████| 1875/1875 [01:20<00:00, 23.24it/s]\n"
     ]
    },
    {
     "name": "stdout",
     "output_type": "stream",
     "text": [
      "  Test results:   loss(0.0605)   accuracy( 98.27)\n",
      "  Effective rank of weight matrix: 406.46786\n",
      "Epoch 19\n"
     ]
    },
    {
     "name": "stderr",
     "output_type": "stream",
     "text": [
      "  Loss   0.006317   Progress: 100%|██████████| 1875/1875 [01:18<00:00, 23.80it/s]\n"
     ]
    },
    {
     "name": "stdout",
     "output_type": "stream",
     "text": [
      "  Test results:   loss(0.0602)   accuracy( 98.24)\n",
      "  Effective rank of weight matrix: 400.33932\n",
      "Epoch 20\n"
     ]
    },
    {
     "name": "stderr",
     "output_type": "stream",
     "text": [
      "  Loss   0.002373   Progress: 100%|██████████| 1875/1875 [01:17<00:00, 24.34it/s]\n"
     ]
    },
    {
     "name": "stdout",
     "output_type": "stream",
     "text": [
      "  Test results:   loss(0.0593)   accuracy( 98.24)\n",
      "  Effective rank of weight matrix: 395.68692\n",
      "model weights saved to file \"models/model6.pt\"\n"
     ]
    }
   ],
   "source": [
    "# model6: train model4 a good bit more as it seemed to perform well\n",
    "\n",
    "model = mystuff.MnistFCNet(name='model6', seed=0)\n",
    "model.init_model(activation=F.relu, dropout=0.5)\n",
    "model.init_optimizer(lr=1e-2, lr_gamma=0.7, l2_penalty=1e-3)\n",
    "model.init_data_loader(batch_size=32)\n",
    "if model.already_saved():\n",
    "    print(f'using cached model weights loaded from {model.path}...')\n",
    "    model.load_from_file()\n",
    "    model.score_pretty()\n",
    "else:\n",
    "    print('did not find cached weights. starting training loop...')\n",
    "    model.train_loop(20)\n",
    "    model.save_to_file()\n",
    "    print(f'model weights saved to file \"{model.path}\"')"
   ]
  },
  {
   "cell_type": "code",
   "execution_count": 24,
   "metadata": {},
   "outputs": [
    {
     "name": "stdout",
     "output_type": "stream",
     "text": [
      "did not find cached weights. starting training loop...\n",
      "Epoch 1\n"
     ]
    },
    {
     "name": "stderr",
     "output_type": "stream",
     "text": [
      "  Loss   1.222666   Progress: 100%|██████████| 938/938 [00:59<00:00, 15.83it/s]\n"
     ]
    },
    {
     "name": "stdout",
     "output_type": "stream",
     "text": [
      "  Test results:   loss(0.3371)   accuracy( 89.80)\n",
      "  Effective rank of weight matrix: 127.25111\n",
      "Epoch 2\n"
     ]
    },
    {
     "name": "stderr",
     "output_type": "stream",
     "text": [
      "  Loss   0.964937   Progress: 100%|██████████| 938/938 [01:02<00:00, 14.95it/s]\n"
     ]
    },
    {
     "name": "stdout",
     "output_type": "stream",
     "text": [
      "  Test results:   loss(0.2832)   accuracy( 91.86)\n",
      "  Effective rank of weight matrix: 98.75644\n",
      "Epoch 3\n"
     ]
    },
    {
     "name": "stderr",
     "output_type": "stream",
     "text": [
      "  Loss   0.979502   Progress: 100%|██████████| 938/938 [01:01<00:00, 15.13it/s]\n"
     ]
    },
    {
     "name": "stdout",
     "output_type": "stream",
     "text": [
      "  Test results:   loss(0.2680)   accuracy( 92.00)\n",
      "  Effective rank of weight matrix: 84.29892\n",
      "Epoch 4\n"
     ]
    },
    {
     "name": "stderr",
     "output_type": "stream",
     "text": [
      "  Loss   0.843106   Progress: 100%|██████████| 938/938 [01:02<00:00, 15.05it/s]\n"
     ]
    },
    {
     "name": "stdout",
     "output_type": "stream",
     "text": [
      "  Test results:   loss(0.2414)   accuracy( 93.36)\n",
      "  Effective rank of weight matrix: 74.5215\n",
      "Epoch 5\n"
     ]
    },
    {
     "name": "stderr",
     "output_type": "stream",
     "text": [
      "  Loss   0.828024   Progress: 100%|██████████| 938/938 [01:02<00:00, 15.01it/s]\n"
     ]
    },
    {
     "name": "stdout",
     "output_type": "stream",
     "text": [
      "  Test results:   loss(0.2331)   accuracy( 93.51)\n",
      "  Effective rank of weight matrix: 68.25572\n",
      "model weights saved to file \"models/model7.pt\"\n"
     ]
    }
   ],
   "source": [
    "# model7: starting from baseline, add some l1 regularization for sparsity\n",
    "\n",
    "model = mystuff.MnistFCNet(name='model7', seed=0)\n",
    "model.init_model(activation=F.relu, dropout=0.5)\n",
    "model.init_optimizer(lr=1e-3, lr_gamma=0.7, l1_penalty=1e-3)\n",
    "model.init_data_loader(batch_size=64)\n",
    "if model.already_saved():\n",
    "    print(f'using cached model weights loaded from {model.path}...')\n",
    "    model.load_from_file()\n",
    "    model.score_pretty()\n",
    "else:\n",
    "    print('did not find cached weights. starting training loop...')\n",
    "    model.train_loop(5)\n",
    "    model.save_to_file()\n",
    "    print(f'model weights saved to file \"{model.path}\"')"
   ]
  },
  {
   "cell_type": "code",
   "execution_count": 25,
   "metadata": {},
   "outputs": [
    {
     "name": "stdout",
     "output_type": "stream",
     "text": [
      "did not find cached weights. starting training loop...\n",
      "Epoch 1\n"
     ]
    },
    {
     "name": "stderr",
     "output_type": "stream",
     "text": [
      "  Loss   0.861148   Progress: 100%|██████████| 938/938 [00:59<00:00, 15.84it/s]\n"
     ]
    },
    {
     "name": "stdout",
     "output_type": "stream",
     "text": [
      "  Test results:   loss(0.2567)   accuracy( 92.45)\n",
      "  Effective rank of weight matrix: 160.16283\n",
      "Epoch 2\n"
     ]
    },
    {
     "name": "stderr",
     "output_type": "stream",
     "text": [
      "  Loss   0.703150   Progress: 100%|██████████| 938/938 [00:57<00:00, 16.35it/s]\n"
     ]
    },
    {
     "name": "stdout",
     "output_type": "stream",
     "text": [
      "  Test results:   loss(0.2303)   accuracy( 93.00)\n",
      "  Effective rank of weight matrix: 128.92618\n",
      "Epoch 3\n"
     ]
    },
    {
     "name": "stderr",
     "output_type": "stream",
     "text": [
      "  Loss   0.656560   Progress: 100%|██████████| 938/938 [00:56<00:00, 16.71it/s]\n"
     ]
    },
    {
     "name": "stdout",
     "output_type": "stream",
     "text": [
      "  Test results:   loss(0.2030)   accuracy( 93.88)\n",
      "  Effective rank of weight matrix: 111.82105\n",
      "Epoch 4\n"
     ]
    },
    {
     "name": "stderr",
     "output_type": "stream",
     "text": [
      "  Loss   0.591482   Progress: 100%|██████████| 938/938 [00:56<00:00, 16.75it/s]\n"
     ]
    },
    {
     "name": "stdout",
     "output_type": "stream",
     "text": [
      "  Test results:   loss(0.1788)   accuracy( 94.83)\n",
      "  Effective rank of weight matrix: 100.10076\n",
      "Epoch 5\n"
     ]
    },
    {
     "name": "stderr",
     "output_type": "stream",
     "text": [
      "  Loss   0.546813   Progress: 100%|██████████| 938/938 [00:57<00:00, 16.42it/s]\n"
     ]
    },
    {
     "name": "stdout",
     "output_type": "stream",
     "text": [
      "  Test results:   loss(0.1617)   accuracy( 95.37)\n",
      "  Effective rank of weight matrix: 92.646736\n",
      "Epoch 6\n"
     ]
    },
    {
     "name": "stderr",
     "output_type": "stream",
     "text": [
      "  Loss   0.507184   Progress: 100%|██████████| 938/938 [00:56<00:00, 16.66it/s]\n"
     ]
    },
    {
     "name": "stdout",
     "output_type": "stream",
     "text": [
      "  Test results:   loss(0.1573)   accuracy( 95.50)\n",
      "  Effective rank of weight matrix: 87.57809\n",
      "Epoch 7\n"
     ]
    },
    {
     "name": "stderr",
     "output_type": "stream",
     "text": [
      "  Loss   0.477646   Progress: 100%|██████████| 938/938 [00:55<00:00, 16.80it/s]\n"
     ]
    },
    {
     "name": "stdout",
     "output_type": "stream",
     "text": [
      "  Test results:   loss(0.1547)   accuracy( 95.72)\n",
      "  Effective rank of weight matrix: 84.21889\n",
      "Epoch 8\n"
     ]
    },
    {
     "name": "stderr",
     "output_type": "stream",
     "text": [
      "  Loss   0.492209   Progress: 100%|██████████| 938/938 [00:56<00:00, 16.49it/s]\n"
     ]
    },
    {
     "name": "stdout",
     "output_type": "stream",
     "text": [
      "  Test results:   loss(0.1534)   accuracy( 95.80)\n",
      "  Effective rank of weight matrix: 81.81109\n",
      "Epoch 9\n"
     ]
    },
    {
     "name": "stderr",
     "output_type": "stream",
     "text": [
      "  Loss   0.477494   Progress: 100%|██████████| 938/938 [00:56<00:00, 16.57it/s]\n"
     ]
    },
    {
     "name": "stdout",
     "output_type": "stream",
     "text": [
      "  Test results:   loss(0.1521)   accuracy( 95.79)\n",
      "  Effective rank of weight matrix: 80.1454\n",
      "Epoch 10\n"
     ]
    },
    {
     "name": "stderr",
     "output_type": "stream",
     "text": [
      "  Loss   0.449968   Progress: 100%|██████████| 938/938 [00:56<00:00, 16.69it/s]\n"
     ]
    },
    {
     "name": "stdout",
     "output_type": "stream",
     "text": [
      "  Test results:   loss(0.1509)   accuracy( 95.80)\n",
      "  Effective rank of weight matrix: 78.77839\n",
      "Epoch 11\n"
     ]
    },
    {
     "name": "stderr",
     "output_type": "stream",
     "text": [
      "  Loss   0.458805   Progress: 100%|██████████| 938/938 [00:56<00:00, 16.72it/s]\n"
     ]
    },
    {
     "name": "stdout",
     "output_type": "stream",
     "text": [
      "  Test results:   loss(0.1507)   accuracy( 95.82)\n",
      "  Effective rank of weight matrix: 77.75281\n",
      "Epoch 12\n"
     ]
    },
    {
     "name": "stderr",
     "output_type": "stream",
     "text": [
      "  Loss   0.441243   Progress: 100%|██████████| 938/938 [00:56<00:00, 16.67it/s]\n"
     ]
    },
    {
     "name": "stdout",
     "output_type": "stream",
     "text": [
      "  Test results:   loss(0.1498)   accuracy( 95.91)\n",
      "  Effective rank of weight matrix: 76.945076\n",
      "Epoch 13\n"
     ]
    },
    {
     "name": "stderr",
     "output_type": "stream",
     "text": [
      "  Loss   0.457464   Progress: 100%|██████████| 938/938 [00:56<00:00, 16.67it/s]\n"
     ]
    },
    {
     "name": "stdout",
     "output_type": "stream",
     "text": [
      "  Test results:   loss(0.1497)   accuracy( 95.91)\n",
      "  Effective rank of weight matrix: 76.4367\n",
      "Epoch 14\n"
     ]
    },
    {
     "name": "stderr",
     "output_type": "stream",
     "text": [
      "  Loss   0.473143   Progress: 100%|██████████| 938/938 [00:56<00:00, 16.73it/s]\n"
     ]
    },
    {
     "name": "stdout",
     "output_type": "stream",
     "text": [
      "  Test results:   loss(0.1499)   accuracy( 95.87)\n",
      "  Effective rank of weight matrix: 76.05184\n",
      "Epoch 15\n"
     ]
    },
    {
     "name": "stderr",
     "output_type": "stream",
     "text": [
      "  Loss   0.512157   Progress: 100%|██████████| 938/938 [00:57<00:00, 16.37it/s]\n"
     ]
    },
    {
     "name": "stdout",
     "output_type": "stream",
     "text": [
      "  Test results:   loss(0.1496)   accuracy( 95.95)\n",
      "  Effective rank of weight matrix: 75.81359\n",
      "Epoch 16\n"
     ]
    },
    {
     "name": "stderr",
     "output_type": "stream",
     "text": [
      "  Loss   0.463431   Progress: 100%|██████████| 938/938 [00:55<00:00, 16.79it/s]\n"
     ]
    },
    {
     "name": "stdout",
     "output_type": "stream",
     "text": [
      "  Test results:   loss(0.1498)   accuracy( 95.96)\n",
      "  Effective rank of weight matrix: 75.645966\n",
      "Epoch 17\n"
     ]
    },
    {
     "name": "stderr",
     "output_type": "stream",
     "text": [
      "  Loss   0.445979   Progress: 100%|██████████| 938/938 [00:55<00:00, 16.76it/s]\n"
     ]
    },
    {
     "name": "stdout",
     "output_type": "stream",
     "text": [
      "  Test results:   loss(0.1498)   accuracy( 95.91)\n",
      "  Effective rank of weight matrix: 75.52684\n",
      "Epoch 18\n"
     ]
    },
    {
     "name": "stderr",
     "output_type": "stream",
     "text": [
      "  Loss   0.487532   Progress: 100%|██████████| 938/938 [00:55<00:00, 16.76it/s]\n"
     ]
    },
    {
     "name": "stdout",
     "output_type": "stream",
     "text": [
      "  Test results:   loss(0.1498)   accuracy( 95.91)\n",
      "  Effective rank of weight matrix: 75.4441\n",
      "Epoch 19\n"
     ]
    },
    {
     "name": "stderr",
     "output_type": "stream",
     "text": [
      "  Loss   0.471721   Progress: 100%|██████████| 938/938 [00:55<00:00, 16.77it/s]\n"
     ]
    },
    {
     "name": "stdout",
     "output_type": "stream",
     "text": [
      "  Test results:   loss(0.1498)   accuracy( 95.94)\n",
      "  Effective rank of weight matrix: 75.38203\n",
      "Epoch 20\n"
     ]
    },
    {
     "name": "stderr",
     "output_type": "stream",
     "text": [
      "  Loss   0.440075   Progress: 100%|██████████| 938/938 [00:55<00:00, 16.80it/s]\n"
     ]
    },
    {
     "name": "stdout",
     "output_type": "stream",
     "text": [
      "  Test results:   loss(0.1498)   accuracy( 95.94)\n",
      "  Effective rank of weight matrix: 75.337364\n",
      "model weights saved to file \"models/model8.pt\"\n"
     ]
    }
   ],
   "source": [
    "# model8: model7 but more epochs and a little less l1 penalty\n",
    "\n",
    "model = mystuff.MnistFCNet(name='model8', seed=0)\n",
    "model.init_model(activation=F.relu, dropout=0.5)\n",
    "model.init_optimizer(lr=1e-3, lr_gamma=0.7, l1_penalty=5e-4)\n",
    "model.init_data_loader(batch_size=64)\n",
    "if model.already_saved():\n",
    "    print(f'using cached model weights loaded from {model.path}...')\n",
    "    model.load_from_file()\n",
    "    model.score_pretty()\n",
    "else:\n",
    "    print('did not find cached weights. starting training loop...')\n",
    "    model.train_loop(20)\n",
    "    model.save_to_file()\n",
    "    print(f'model weights saved to file \"{model.path}\"')"
   ]
  },
  {
   "cell_type": "code",
   "execution_count": 26,
   "metadata": {},
   "outputs": [
    {
     "name": "stdout",
     "output_type": "stream",
     "text": [
      "did not find cached weights. starting training loop...\n",
      "Epoch 1\n"
     ]
    },
    {
     "name": "stderr",
     "output_type": "stream",
     "text": [
      "  Loss   0.978285   Progress: 100%|██████████| 938/938 [00:55<00:00, 16.79it/s]\n"
     ]
    },
    {
     "name": "stdout",
     "output_type": "stream",
     "text": [
      "  Test results:   loss(0.3115)   accuracy( 90.70)\n",
      "  Effective rank of weight matrix: 99.733055\n",
      "Epoch 2\n"
     ]
    },
    {
     "name": "stderr",
     "output_type": "stream",
     "text": [
      "  Loss   0.755507   Progress: 100%|██████████| 938/938 [00:56<00:00, 16.73it/s]\n"
     ]
    },
    {
     "name": "stdout",
     "output_type": "stream",
     "text": [
      "  Test results:   loss(0.2556)   accuracy( 92.45)\n",
      "  Effective rank of weight matrix: 71.563934\n",
      "Epoch 3\n"
     ]
    },
    {
     "name": "stderr",
     "output_type": "stream",
     "text": [
      "  Loss   0.708310   Progress: 100%|██████████| 938/938 [00:56<00:00, 16.71it/s]\n"
     ]
    },
    {
     "name": "stdout",
     "output_type": "stream",
     "text": [
      "  Test results:   loss(0.2362)   accuracy( 92.93)\n",
      "  Effective rank of weight matrix: 58.514355\n",
      "Epoch 4\n"
     ]
    },
    {
     "name": "stderr",
     "output_type": "stream",
     "text": [
      "  Loss   0.711018   Progress: 100%|██████████| 938/938 [00:55<00:00, 16.77it/s]\n"
     ]
    },
    {
     "name": "stdout",
     "output_type": "stream",
     "text": [
      "  Test results:   loss(0.2164)   accuracy( 93.84)\n",
      "  Effective rank of weight matrix: 51.721188\n",
      "Epoch 5\n"
     ]
    },
    {
     "name": "stderr",
     "output_type": "stream",
     "text": [
      "  Loss   0.602963   Progress: 100%|██████████| 938/938 [00:59<00:00, 15.67it/s]\n"
     ]
    },
    {
     "name": "stdout",
     "output_type": "stream",
     "text": [
      "  Test results:   loss(0.2055)   accuracy( 94.03)\n",
      "  Effective rank of weight matrix: 46.936253\n",
      "model weights saved to file \"models/model9.pt\"\n"
     ]
    }
   ],
   "source": [
    "# model9: like model7 but with less dropout\n",
    "\n",
    "model = mystuff.MnistFCNet(name='model9', seed=0)\n",
    "model.init_model(activation=F.relu, dropout=0.3)\n",
    "model.init_optimizer(lr=1e-3, lr_gamma=0.7, l1_penalty=1e-3)\n",
    "model.init_data_loader(batch_size=64)\n",
    "if model.already_saved():\n",
    "    print(f'using cached model weights loaded from {model.path}...')\n",
    "    model.load_from_file()\n",
    "    model.score_pretty()\n",
    "else:\n",
    "    print('did not find cached weights. starting training loop...')\n",
    "    model.train_loop(5)\n",
    "    model.save_to_file()\n",
    "    print(f'model weights saved to file \"{model.path}\"')"
   ]
  },
  {
   "cell_type": "code",
   "execution_count": 27,
   "metadata": {},
   "outputs": [
    {
     "name": "stdout",
     "output_type": "stream",
     "text": [
      "did not find cached weights. starting training loop...\n",
      "Epoch 1\n"
     ]
    },
    {
     "name": "stderr",
     "output_type": "stream",
     "text": [
      "  Loss   0.417632   Progress: 100%|██████████| 938/938 [01:02<00:00, 14.93it/s]\n"
     ]
    },
    {
     "name": "stdout",
     "output_type": "stream",
     "text": [
      "  Test results:   loss(0.1687)   accuracy( 94.87)\n",
      "  Effective rank of weight matrix: 284.0354\n",
      "Epoch 2\n"
     ]
    },
    {
     "name": "stderr",
     "output_type": "stream",
     "text": [
      "  Loss   0.309084   Progress: 100%|██████████| 938/938 [00:58<00:00, 16.11it/s]\n"
     ]
    },
    {
     "name": "stdout",
     "output_type": "stream",
     "text": [
      "  Test results:   loss(0.1410)   accuracy( 95.77)\n",
      "  Effective rank of weight matrix: 198.971\n",
      "Epoch 3\n"
     ]
    },
    {
     "name": "stderr",
     "output_type": "stream",
     "text": [
      "  Loss   0.265886   Progress: 100%|██████████| 938/938 [01:02<00:00, 14.93it/s]\n"
     ]
    },
    {
     "name": "stdout",
     "output_type": "stream",
     "text": [
      "  Test results:   loss(0.1098)   accuracy( 96.82)\n",
      "  Effective rank of weight matrix: 168.52992\n",
      "Epoch 4\n"
     ]
    },
    {
     "name": "stderr",
     "output_type": "stream",
     "text": [
      "  Loss   0.231923   Progress: 100%|██████████| 938/938 [01:01<00:00, 15.19it/s]\n"
     ]
    },
    {
     "name": "stdout",
     "output_type": "stream",
     "text": [
      "  Test results:   loss(0.0965)   accuracy( 97.03)\n",
      "  Effective rank of weight matrix: 153.07983\n",
      "Epoch 5\n"
     ]
    },
    {
     "name": "stderr",
     "output_type": "stream",
     "text": [
      "  Loss   0.207324   Progress: 100%|██████████| 938/938 [01:02<00:00, 15.08it/s]\n"
     ]
    },
    {
     "name": "stdout",
     "output_type": "stream",
     "text": [
      "  Test results:   loss(0.0845)   accuracy( 97.36)\n",
      "  Effective rank of weight matrix: 144.30492\n",
      "Epoch 6\n"
     ]
    },
    {
     "name": "stderr",
     "output_type": "stream",
     "text": [
      "  Loss   0.198466   Progress: 100%|██████████| 938/938 [01:01<00:00, 15.36it/s]\n"
     ]
    },
    {
     "name": "stdout",
     "output_type": "stream",
     "text": [
      "  Test results:   loss(0.0789)   accuracy( 97.61)\n",
      "  Effective rank of weight matrix: 137.08621\n",
      "Epoch 7\n"
     ]
    },
    {
     "name": "stderr",
     "output_type": "stream",
     "text": [
      "  Loss   0.194060   Progress: 100%|██████████| 938/938 [01:02<00:00, 15.12it/s]\n"
     ]
    },
    {
     "name": "stdout",
     "output_type": "stream",
     "text": [
      "  Test results:   loss(0.0746)   accuracy( 97.67)\n",
      "  Effective rank of weight matrix: 131.30795\n",
      "Epoch 8\n"
     ]
    },
    {
     "name": "stderr",
     "output_type": "stream",
     "text": [
      "  Loss   0.179252   Progress: 100%|██████████| 938/938 [01:01<00:00, 15.26it/s]\n"
     ]
    },
    {
     "name": "stdout",
     "output_type": "stream",
     "text": [
      "  Test results:   loss(0.0708)   accuracy( 97.80)\n",
      "  Effective rank of weight matrix: 126.67525\n",
      "Epoch 9\n"
     ]
    },
    {
     "name": "stderr",
     "output_type": "stream",
     "text": [
      "  Loss   0.188807   Progress: 100%|██████████| 938/938 [00:57<00:00, 16.20it/s]\n"
     ]
    },
    {
     "name": "stdout",
     "output_type": "stream",
     "text": [
      "  Test results:   loss(0.0692)   accuracy( 97.91)\n",
      "  Effective rank of weight matrix: 123.41849\n",
      "Epoch 10\n"
     ]
    },
    {
     "name": "stderr",
     "output_type": "stream",
     "text": [
      "  Loss   0.191878   Progress: 100%|██████████| 938/938 [00:58<00:00, 16.14it/s]\n"
     ]
    },
    {
     "name": "stdout",
     "output_type": "stream",
     "text": [
      "  Test results:   loss(0.0668)   accuracy( 98.05)\n",
      "  Effective rank of weight matrix: 120.70508\n",
      "Epoch 11\n"
     ]
    },
    {
     "name": "stderr",
     "output_type": "stream",
     "text": [
      "  Loss   0.185569   Progress: 100%|██████████| 938/938 [00:57<00:00, 16.18it/s]\n"
     ]
    },
    {
     "name": "stdout",
     "output_type": "stream",
     "text": [
      "  Test results:   loss(0.0658)   accuracy( 98.03)\n",
      "  Effective rank of weight matrix: 118.66176\n",
      "Epoch 12\n"
     ]
    },
    {
     "name": "stderr",
     "output_type": "stream",
     "text": [
      "  Loss   0.160466   Progress: 100%|██████████| 938/938 [00:58<00:00, 16.06it/s]\n"
     ]
    },
    {
     "name": "stdout",
     "output_type": "stream",
     "text": [
      "  Test results:   loss(0.0664)   accuracy( 97.99)\n",
      "  Effective rank of weight matrix: 116.917206\n",
      "Epoch 13\n"
     ]
    },
    {
     "name": "stderr",
     "output_type": "stream",
     "text": [
      "  Loss   0.158977   Progress: 100%|██████████| 938/938 [01:03<00:00, 14.85it/s]\n"
     ]
    },
    {
     "name": "stdout",
     "output_type": "stream",
     "text": [
      "  Test results:   loss(0.0645)   accuracy( 98.02)\n",
      "  Effective rank of weight matrix: 115.583565\n",
      "Epoch 14\n"
     ]
    },
    {
     "name": "stderr",
     "output_type": "stream",
     "text": [
      "  Loss   0.163217   Progress: 100%|██████████| 938/938 [01:02<00:00, 15.04it/s]\n"
     ]
    },
    {
     "name": "stdout",
     "output_type": "stream",
     "text": [
      "  Test results:   loss(0.0631)   accuracy( 98.13)\n",
      "  Effective rank of weight matrix: 114.39347\n",
      "Epoch 15\n"
     ]
    },
    {
     "name": "stderr",
     "output_type": "stream",
     "text": [
      "  Loss   0.158405   Progress: 100%|██████████| 938/938 [01:00<00:00, 15.47it/s]\n"
     ]
    },
    {
     "name": "stdout",
     "output_type": "stream",
     "text": [
      "  Test results:   loss(0.0637)   accuracy( 98.10)\n",
      "  Effective rank of weight matrix: 113.42541\n",
      "Epoch 16\n"
     ]
    },
    {
     "name": "stderr",
     "output_type": "stream",
     "text": [
      "  Loss   0.183658   Progress: 100%|██████████| 938/938 [01:01<00:00, 15.33it/s]\n"
     ]
    },
    {
     "name": "stdout",
     "output_type": "stream",
     "text": [
      "  Test results:   loss(0.0627)   accuracy( 98.15)\n",
      "  Effective rank of weight matrix: 112.70345\n",
      "Epoch 17\n"
     ]
    },
    {
     "name": "stderr",
     "output_type": "stream",
     "text": [
      "  Loss   0.151914   Progress: 100%|██████████| 938/938 [01:00<00:00, 15.42it/s]\n"
     ]
    },
    {
     "name": "stdout",
     "output_type": "stream",
     "text": [
      "  Test results:   loss(0.0630)   accuracy( 98.12)\n",
      "  Effective rank of weight matrix: 112.18973\n",
      "Epoch 18\n"
     ]
    },
    {
     "name": "stderr",
     "output_type": "stream",
     "text": [
      "  Loss   0.144167   Progress: 100%|██████████| 938/938 [01:02<00:00, 15.11it/s]\n"
     ]
    },
    {
     "name": "stdout",
     "output_type": "stream",
     "text": [
      "  Test results:   loss(0.0626)   accuracy( 98.16)\n",
      "  Effective rank of weight matrix: 111.79968\n",
      "Epoch 19\n"
     ]
    },
    {
     "name": "stderr",
     "output_type": "stream",
     "text": [
      "  Loss   0.146852   Progress: 100%|██████████| 938/938 [01:00<00:00, 15.48it/s]\n"
     ]
    },
    {
     "name": "stdout",
     "output_type": "stream",
     "text": [
      "  Test results:   loss(0.0622)   accuracy( 98.18)\n",
      "  Effective rank of weight matrix: 111.47326\n",
      "Epoch 20\n"
     ]
    },
    {
     "name": "stderr",
     "output_type": "stream",
     "text": [
      "  Loss   0.145181   Progress: 100%|██████████| 938/938 [01:10<00:00, 13.28it/s]\n"
     ]
    },
    {
     "name": "stdout",
     "output_type": "stream",
     "text": [
      "  Test results:   loss(0.0618)   accuracy( 98.22)\n",
      "  Effective rank of weight matrix: 111.20981\n",
      "model weights saved to file \"models/model10.pt\"\n"
     ]
    }
   ],
   "source": [
    "# model10: model9 with less l1 penalty, more epochs and a lower learning rate decay\n",
    "\n",
    "model = mystuff.MnistFCNet(name='model10', seed=0)\n",
    "model.init_model(activation=F.relu, dropout=0.3)\n",
    "model.init_optimizer(lr=1e-3, lr_gamma=0.8, l1_penalty=1e-4)\n",
    "model.init_data_loader(batch_size=64)\n",
    "if model.already_saved():\n",
    "    print(f'using cached model weights loaded from {model.path}...')\n",
    "    model.load_from_file()\n",
    "    model.score_pretty()\n",
    "else:\n",
    "    print('did not find cached weights. starting training loop...')\n",
    "    model.train_loop(20)\n",
    "    model.save_to_file()\n",
    "    print(f'model weights saved to file \"{model.path}\"')"
   ]
  }
 ],
 "metadata": {
  "kernelspec": {
   "display_name": ".venv",
   "language": "python",
   "name": "python3"
  },
  "language_info": {
   "codemirror_mode": {
    "name": "ipython",
    "version": 3
   },
   "file_extension": ".py",
   "mimetype": "text/x-python",
   "name": "python",
   "nbconvert_exporter": "python",
   "pygments_lexer": "ipython3",
   "version": "3.10.14"
  }
 },
 "nbformat": 4,
 "nbformat_minor": 2
}
